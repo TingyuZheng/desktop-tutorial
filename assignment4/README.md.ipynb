{
 "cells": [
  {
   "cell_type": "markdown",
   "id": "dce1c1f7",
   "metadata": {},
   "source": [
    "#用于提醒个人项目跟进\n",
    "\n",
    "#已更进内容：\n",
    "\n",
    "1.和2位剧本杀店员聊天询问相关问题\n",
    "\n",
    "笔记：\n",
    "****客源****\n",
    "1.前期客源主要来自区域实地宣传，例如发传单、新人活动\n",
    "2.大部分客源来自美团/大众点评，以及老客户的口碑宣传\n",
    "3.小部分客源来自小红书\n",
    "\n",
    "****合作****\n",
    "1.店铺需要在美团上付钱才能争取一个比较易搜到的位置\n",
    "2.与顾客合作，留好评登上优质好评榜可以享受优惠\n",
    "\n",
    "****问题****\n",
    "1.对手之间恶性竞争，如美团私信后举报、在点评上故意留差评\n",
    "\n",
    "****运营亮点****\n",
    "\n",
    "\n",
    "前期想法：\n",
    "1.用户实名制"
   ]
  }
 ],
 "metadata": {
  "kernelspec": {
   "display_name": "Python 3",
   "language": "python",
   "name": "python3"
  },
  "language_info": {
   "codemirror_mode": {
    "name": "ipython",
    "version": 3
   },
   "file_extension": ".py",
   "mimetype": "text/x-python",
   "name": "python",
   "nbconvert_exporter": "python",
   "pygments_lexer": "ipython3",
   "version": "3.8.8"
  }
 },
 "nbformat": 4,
 "nbformat_minor": 5
}
